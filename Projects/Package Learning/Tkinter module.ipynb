{
 "cells": [
  {
   "cell_type": "code",
   "execution_count": null,
   "metadata": {},
   "outputs": [],
   "source": [
    "#Tkinter"
   ]
  },
  {
   "cell_type": "code",
   "execution_count": 1,
   "metadata": {},
   "outputs": [],
   "source": [
    "from tkinter import *"
   ]
  },
  {
   "cell_type": "code",
   "execution_count": 2,
   "metadata": {},
   "outputs": [],
   "source": [
    "#create a basic window\n",
    "##https://www.youtube.com/watch?v=Ccct5D2AyNM\n",
    "class Window(Frame):\n",
    "    def __init__(self, master = None):\n",
    "        Frame.__init__(self, master)\n",
    "        \n",
    "        self.master=master\n",
    "\n",
    "root=Tk()\n",
    "\n",
    "app=Window(root)\n",
    "\n",
    "root.mainloop()"
   ]
  },
  {
   "cell_type": "code",
   "execution_count": 9,
   "metadata": {},
   "outputs": [],
   "source": [
    "#add buttons\n",
    "##https://www.youtube.com/watch?v=QPeS0TI0yNo\n",
    "class Window(Frame):\n",
    "    def __init__(self, master = None):\n",
    "        Frame.__init__(self, master)\n",
    "        \n",
    "        self.master=master        \n",
    "        self.init_window()\n",
    "    \n",
    "    def init_window(self):\n",
    "        self.master.title(\"GUI\")\n",
    "        self.pack(fill=BOTH, expand=1)\n",
    "        quitButton = Button(self,text='Quit') #Button() is tkinter function\n",
    "        quitButton.place(x=0,y=0) #x=0,y=0 is upper left\n",
    "\n",
    "root=Tk()\n",
    "root.geometry(\"400x300\")\n",
    "\n",
    "app=Window(root)\n",
    "root.mainloop()"
   ]
  },
  {
   "cell_type": "code",
   "execution_count": 2,
   "metadata": {},
   "outputs": [
    {
     "ename": "SystemExit",
     "evalue": "",
     "output_type": "error",
     "traceback": [
      "An exception has occurred, use %tb to see the full traceback.\n",
      "\u001b[1;31mSystemExit\u001b[0m\n"
     ]
    },
    {
     "name": "stderr",
     "output_type": "stream",
     "text": [
      "C:\\Professional\\Anaconda\\lib\\site-packages\\IPython\\core\\interactiveshell.py:2971: UserWarning: To exit: use 'exit', 'quit', or Ctrl-D.\n",
      "  warn(\"To exit: use 'exit', 'quit', or Ctrl-D.\", stacklevel=1)\n"
     ]
    }
   ],
   "source": [
    "#event handling (adding functionalities to button)\n",
    "##https://www.youtube.com/watch?v=4FrQaowzIGo\n",
    "class Window(Frame):\n",
    "    def __init__(self, master = None):\n",
    "        Frame.__init__(self, master)\n",
    "        \n",
    "        self.master=master        \n",
    "        self.init_window()\n",
    "    \n",
    "    def init_window(self):\n",
    "        self.master.title(\"GUI\")\n",
    "        self.pack(fill=BOTH, expand=1)\n",
    "        quitButton = Button(self,text='Quit'\n",
    "                            ,command=self.client_exit) #Button() is tkinter function\n",
    "        quitButton.place(x=0,y=0) #x=0,y=0 is upper left\n",
    "\n",
    "    def client_exit(self):\n",
    "        root.destroy()\n",
    "        sys.exit()\n",
    "\n",
    "root=Tk()\n",
    "root.geometry(\"400x300\")\n",
    "\n",
    "app=Window(root)\n",
    "root.mainloop()"
   ]
  },
  {
   "cell_type": "code",
   "execution_count": null,
   "metadata": {},
   "outputs": [],
   "source": []
  }
 ],
 "metadata": {
  "kernelspec": {
   "display_name": "Python 3",
   "language": "python",
   "name": "python3"
  },
  "language_info": {
   "codemirror_mode": {
    "name": "ipython",
    "version": 3
   },
   "file_extension": ".py",
   "mimetype": "text/x-python",
   "name": "python",
   "nbconvert_exporter": "python",
   "pygments_lexer": "ipython3",
   "version": "3.6.5"
  }
 },
 "nbformat": 4,
 "nbformat_minor": 2
}
