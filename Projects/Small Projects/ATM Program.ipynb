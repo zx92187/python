{
 "cells": [
  {
   "cell_type": "code",
   "execution_count": null,
   "metadata": {},
   "outputs": [],
   "source": [
    "#ATM program \n",
    "#https://www.youtube.com/watch?v=FumKnuZ7CMo"
   ]
  },
  {
   "cell_type": "code",
   "execution_count": 34,
   "metadata": {},
   "outputs": [
    {
     "name": "stdout",
     "output_type": "stream",
     "text": [
      "welcome to bankword!\n",
      "swipe your card here:\n",
      "enter your pin to proceed9999\n",
      "choose your transcation:\n",
      "1. balance enquiry\n",
      "2. withdraw money\n",
      "3. deposit\n",
      "4. change your pin\n",
      "5. transfer money\n",
      "6. quit\n",
      "transcation:balance enquiry\n",
      "do you want sleep ?yes\n",
      "here is your sleep! thanks for using bankworld\n"
     ]
    }
   ],
   "source": [
    "print(\"welcome to bankword!\")\n",
    "print(\"swipe your card here:\")\n",
    "atm_pin=\"9999\"\n",
    "transcation=[\"balance enquiry\", \"withdraw money\", \"deposit\"\n",
    "            ,\"change your pin\",\"transfer money\",\"quit\"]\n",
    "pin=input(\"enter your pin to proceed\")\n",
    "if pin==atm_pin:\n",
    "    print(\"choose your transcation:\")\n",
    "    print(\"1. balance enquiry\")\n",
    "    print(\"2. withdraw money\")\n",
    "    print(\"3. deposit\")\n",
    "    print(\"4. change your pin\")\n",
    "    print(\"5. transfer money\")\n",
    "    print(\"6. quit\")\n",
    "    trans=input(\"transcation:\")\n",
    "    if trans==\"balance enquiry\":\n",
    "        sleep=input(\"do you want sleep ?\")\n",
    "        if sleep==\"yes\":\n",
    "            print(\"here is your sleep! thanks for using bankworld\")\n",
    "        else:\n",
    "            print(\"thanks for using bankworld!\")\n",
    "    elif trans==\"withdraw money\":\n",
    "        amount=input(\"enter your amount to proceed:\")\n",
    "        if amount>\"0\":\n",
    "            print(\" colect your cash, thanks for using bankworld\")\n",
    "        else:\n",
    "            print(\"enter valid amount to proceed: \")\n",
    "    elif trans==\"deposit\":\n",
    "        deposit=input(\"enter your amount to deposit: \")\n",
    "        if deposit>\"0\":\n",
    "            print(\"your deposit has been succefully deposited, thanks for using bankworld\")\n",
    "    elif trans==\"change your pin\":\n",
    "        change_pin=input(\"enter here new pin: \")\n",
    "        if change_pin>=\"0\":\n",
    "            print(\"your pin has been succefully changed!\")\n",
    "        else:\n",
    "            print(\"enter valid pin to proceed\")\n",
    "    elif trans==\"transfer money\":\n",
    "        transfer_money=input(\"enter your amount to transfer:\")\n",
    "        if transfer_money>\"0\":\n",
    "            print(\"your money has been transfered!\")\n",
    "        else:\n",
    "            print(\"enter valid amount to proceed\")\n",
    "    elif trans==\"quit\":\n",
    "        quit_1=input(\"press yes to quit!\")\n",
    "        if quit_1==\"yes\":\n",
    "            print(\"quit\")\n",
    "        else:\n",
    "            print(\"choose any transcation please:\")\n",
    "else:        \n",
    "    print(\"wrong pin!, try again\")\n"
   ]
  },
  {
   "cell_type": "code",
   "execution_count": null,
   "metadata": {},
   "outputs": [],
   "source": []
  }
 ],
 "metadata": {
  "kernelspec": {
   "display_name": "Python 3",
   "language": "python",
   "name": "python3"
  },
  "language_info": {
   "codemirror_mode": {
    "name": "ipython",
    "version": 3
   },
   "file_extension": ".py",
   "mimetype": "text/x-python",
   "name": "python",
   "nbconvert_exporter": "python",
   "pygments_lexer": "ipython3",
   "version": "3.6.5"
  }
 },
 "nbformat": 4,
 "nbformat_minor": 2
}
