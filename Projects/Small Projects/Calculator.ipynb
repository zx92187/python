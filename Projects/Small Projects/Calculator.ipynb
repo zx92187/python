{
 "cells": [
  {
   "cell_type": "code",
   "execution_count": 1,
   "metadata": {},
   "outputs": [],
   "source": [
    "#https://www.youtube.com/watch?v=J-mvqlkHOHY\n",
    "#tkinter documentation\n",
    "#https://docs.python.org/2/library/tkinter.html\n",
    "from tkinter import*"
   ]
  },
  {
   "cell_type": "code",
   "execution_count": 37,
   "metadata": {},
   "outputs": [],
   "source": [
    "#bd is ,bg is background color\n",
    "def iCalc(source, side):\n",
    "    storeObj = Frame(source, borderwidth=1,bd=4,bg='powder blue')\n",
    "    storeObj.pack(side=side, expand=YES, fill=BOTH)\n",
    "    return storeObj\n",
    "\n",
    "def button (source, side, text, command=None):\n",
    "    storeObj = Button(source, text=text,command=command)\n",
    "    storeObj.pack(side=side,expand=YES,fill=BOTH)\n",
    "    return storeObj"
   ]
  },
  {
   "cell_type": "code",
   "execution_count": 59,
   "metadata": {},
   "outputs": [],
   "source": [
    "class app(Frame):\n",
    "    def __init__(self):\n",
    "        Frame.__init__(self)\n",
    "        self.option_add('*Font','arial 20 bold')\n",
    "        self.pack(expand=YES,fill=BOTH)\n",
    "        self.master.title('Calculator')\n",
    "        \n",
    "        display = StringVar()\n",
    "        Entry(self, relief=RIDGE,\n",
    "                  textvariable=display,justify='right',bd=30,bg='powder blue').pack(side=TOP,expand=YES,\n",
    "                        fill=BOTH)\n",
    "        \n",
    "        for clearBut in ([\"CE\"],[\"C\"]):\n",
    "            erase = iCalc(self, TOP)\n",
    "            for ichar in clearBut:\n",
    "                button(erase,LEFT,ichar,\n",
    "                      lambda storeObj=display,q=ichar: storeObj.set(''))\n",
    "                \n",
    "        for NumBut in (\"789/\", \"456*\", \"123-\", \"0.+\"):\n",
    "            FunctionNum = iCalc(self,TOP)\n",
    "            for char in NumBut:\n",
    "                button(FunctionNum,LEFT,char,\n",
    "                      lambda storeObj=display, q=char: storeObj.set(storeObj.get()+q))\n",
    "        \n",
    "        EqualsButton = iCalc(self, TOP)\n",
    "        for iEquals in \"=\":\n",
    "            if iEquals == \"=\":\n",
    "                btniEquals=button(EqualsButton,LEFT,iEquals)\n",
    "                btniEquals.bind('<ButtonRelease-1>',\n",
    "                        lambda e, s=self, storeObj=display: s.calc(storeObj), '+')\n",
    "            else:\n",
    "                btniEquals=button(EqualsButton,LEFT,iEquals,\n",
    "                        lambda storeObj=display, s=' %s '%iEquals: storeObj.set(storeObj.get()+s))\n",
    "                \n",
    "    def calc(self, display):\n",
    "        try:\n",
    "            display.set(eval(display.get()))\n",
    "        except:\n",
    "            display.set(\"ERROR\")"
   ]
  },
  {
   "cell_type": "code",
   "execution_count": 60,
   "metadata": {},
   "outputs": [],
   "source": [
    "if __name__=='__main__':\n",
    "    app().mainloop()"
   ]
  },
  {
   "cell_type": "code",
   "execution_count": null,
   "metadata": {},
   "outputs": [],
   "source": []
  }
 ],
 "metadata": {
  "kernelspec": {
   "display_name": "Python 3",
   "language": "python",
   "name": "python3"
  },
  "language_info": {
   "codemirror_mode": {
    "name": "ipython",
    "version": 3
   },
   "file_extension": ".py",
   "mimetype": "text/x-python",
   "name": "python",
   "nbconvert_exporter": "python",
   "pygments_lexer": "ipython3",
   "version": "3.6.5"
  }
 },
 "nbformat": 4,
 "nbformat_minor": 2
}
